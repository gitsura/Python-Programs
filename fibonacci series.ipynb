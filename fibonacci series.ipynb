{
 "cells": [
  {
   "cell_type": "code",
   "execution_count": 4,
   "id": "29be6b74-e5d4-4d1e-98cb-80d4002ce6b3",
   "metadata": {},
   "outputs": [
    {
     "name": "stdout",
     "output_type": "stream",
     "text": [
      "5\n"
     ]
    }
   ],
   "source": [
    "n=5\n",
    "a=0\n",
    "b=1\n",
    "if n<0:\n",
    "    print(\"wrong input\")\n",
    "elif n==0:\n",
    "    print(\"0\")\n",
    "else: \n",
    "    for i in range(1,n):\n",
    "        c=a+b\n",
    "        a=b\n",
    "        b=c\n",
    "print(c)\n"
   ]
  },
  {
   "cell_type": "code",
   "execution_count": null,
   "id": "e329ed6c-f9e3-4e15-8ed4-ebfc68d03f9f",
   "metadata": {},
   "outputs": [],
   "source": []
  }
 ],
 "metadata": {
  "kernelspec": {
   "display_name": "Python 3 (ipykernel)",
   "language": "python",
   "name": "python3"
  },
  "language_info": {
   "codemirror_mode": {
    "name": "ipython",
    "version": 3
   },
   "file_extension": ".py",
   "mimetype": "text/x-python",
   "name": "python",
   "nbconvert_exporter": "python",
   "pygments_lexer": "ipython3",
   "version": "3.13.5"
  }
 },
 "nbformat": 4,
 "nbformat_minor": 5
}
