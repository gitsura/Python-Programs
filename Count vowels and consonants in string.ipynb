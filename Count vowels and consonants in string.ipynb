{
 "cells": [
  {
   "cell_type": "code",
   "execution_count": 2,
   "id": "8bb9c95b-180d-49f4-9c4c-a8f3e69dabff",
   "metadata": {},
   "outputs": [
    {
     "name": "stdout",
     "output_type": "stream",
     "text": [
      "2\n",
      "4\n"
     ]
    }
   ],
   "source": [
    "string=\"varsha\"\n",
    "vowels=0\n",
    "consonants=0\n",
    "for i in string:\n",
    "    if i=='a' or i=='e' or i=='i' or i=='o' or i=='u' or i=='A' or i=='E' or i=='I' or i=='O' or i=='U':\n",
    "      vowels=vowels+1\n",
    "    else:\n",
    "      consonants=consonants+1\n",
    "print(vowels)\n",
    "print(consonants) "
   ]
  },
  {
   "cell_type": "code",
   "execution_count": null,
   "id": "ad2a37b9-70d5-4a95-829d-5214538a85dc",
   "metadata": {},
   "outputs": [],
   "source": []
  }
 ],
 "metadata": {
  "kernelspec": {
   "display_name": "Python 3 (ipykernel)",
   "language": "python",
   "name": "python3"
  },
  "language_info": {
   "codemirror_mode": {
    "name": "ipython",
    "version": 3
   },
   "file_extension": ".py",
   "mimetype": "text/x-python",
   "name": "python",
   "nbconvert_exporter": "python",
   "pygments_lexer": "ipython3",
   "version": "3.13.5"
  }
 },
 "nbformat": 4,
 "nbformat_minor": 5
}
