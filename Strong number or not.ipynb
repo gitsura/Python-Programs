{
 "cells": [
  {
   "cell_type": "code",
   "execution_count": 19,
   "id": "49dc2071-d6e0-419c-8f01-1fb5eac301ba",
   "metadata": {},
   "outputs": [
    {
     "name": "stdout",
     "output_type": "stream",
     "text": [
      "not strong number\n"
     ]
    }
   ],
   "source": [
    "import math\n",
    "orig=num\n",
    "num=145\n",
    "sum=0\n",
    "while orig>0:\n",
    "    digit=orig%10\n",
    "    sum=sum+math.factorial(digit)\n",
    "    orig//=10\n",
    "if sum==num:\n",
    "    print(\"strong number\")\n",
    "else:\n",
    "    print(\"not strong number\")\n",
    "    \n"
   ]
  },
  {
   "cell_type": "code",
   "execution_count": null,
   "id": "60489c7b-3ec9-4b03-b560-1600eea52c41",
   "metadata": {},
   "outputs": [],
   "source": []
  }
 ],
 "metadata": {
  "kernelspec": {
   "display_name": "Python 3 (ipykernel)",
   "language": "python",
   "name": "python3"
  },
  "language_info": {
   "codemirror_mode": {
    "name": "ipython",
    "version": 3
   },
   "file_extension": ".py",
   "mimetype": "text/x-python",
   "name": "python",
   "nbconvert_exporter": "python",
   "pygments_lexer": "ipython3",
   "version": "3.13.5"
  }
 },
 "nbformat": 4,
 "nbformat_minor": 5
}
