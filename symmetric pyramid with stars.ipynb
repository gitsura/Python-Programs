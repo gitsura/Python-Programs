{
 "cells": [
  {
   "cell_type": "code",
   "execution_count": 2,
   "id": "7e44579e-a909-46a1-97c9-9a525ac8ae02",
   "metadata": {},
   "outputs": [
    {
     "name": "stdin",
     "output_type": "stream",
     "text": [
      " 5\n"
     ]
    },
    {
     "name": "stdout",
     "output_type": "stream",
     "text": [
      "   *\n",
      "  ***\n",
      " *****\n",
      "  ***\n",
      "   *\n"
     ]
    }
   ],
   "source": [
    "n=int(input())\n",
    "upper=n//2+1\n",
    "lower=n//2\n",
    "for i in range(1,upper+1):\n",
    "    print(\" \"*(upper-i),\"*\"*(2*i-1))\n",
    "for j in range(lower,0,-1):\n",
    "    print(\" \"*(upper-j),\"*\"*(2*j-1))"
   ]
  },
  {
   "cell_type": "code",
   "execution_count": null,
   "id": "36a711dd-396a-418f-8d2b-e5ce1e1d1998",
   "metadata": {},
   "outputs": [],
   "source": []
  }
 ],
 "metadata": {
  "kernelspec": {
   "display_name": "Python 3 (ipykernel)",
   "language": "python",
   "name": "python3"
  },
  "language_info": {
   "codemirror_mode": {
    "name": "ipython",
    "version": 3
   },
   "file_extension": ".py",
   "mimetype": "text/x-python",
   "name": "python",
   "nbconvert_exporter": "python",
   "pygments_lexer": "ipython3",
   "version": "3.13.5"
  }
 },
 "nbformat": 4,
 "nbformat_minor": 5
}
