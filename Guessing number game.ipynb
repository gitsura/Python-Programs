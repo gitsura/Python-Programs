{
 "cells": [
  {
   "cell_type": "code",
   "execution_count": null,
   "id": "f5e596a0-f03c-4b31-ab60-7a5b322d7fa1",
   "metadata": {},
   "outputs": [],
   "source": [
    "import random\n",
    "system=random.randint(0,10)\n",
    "attempts=3\n",
    "while attempts:\n",
    "    user=int(input(\"Enter your choice:: \"))\n",
    "    if user==system:\n",
    "             print(\"Congratulations...You Won\")\n",
    "             break\n",
    "    else:\n",
    "     attempts=attempts-1\n",
    "     print(f\"Try agaim...You have{attempts} attempts\")\n",
    "     if attempts==0:\n",
    "         print(\"You lost\")"
   ]
  }
 ],
 "metadata": {
  "kernelspec": {
   "display_name": "Python 3 (ipykernel)",
   "language": "python",
   "name": "python3"
  },
  "language_info": {
   "codemirror_mode": {
    "name": "ipython",
    "version": 3
   },
   "file_extension": ".py",
   "mimetype": "text/x-python",
   "name": "python",
   "nbconvert_exporter": "python",
   "pygments_lexer": "ipython3",
   "version": "3.13.5"
  }
 },
 "nbformat": 4,
 "nbformat_minor": 5
}
