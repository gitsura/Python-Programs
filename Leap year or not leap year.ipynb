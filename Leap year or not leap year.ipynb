{
 "cells": [
  {
   "cell_type": "code",
   "execution_count": 2,
   "id": "e6712605-0738-40f9-9265-a07cab0f9619",
   "metadata": {},
   "outputs": [
    {
     "name": "stdin",
     "output_type": "stream",
     "text": [
      "Enter year 2024\n"
     ]
    },
    {
     "name": "stdout",
     "output_type": "stream",
     "text": [
      "leap\n"
     ]
    }
   ],
   "source": [
    "year=int(input(\"Enter year\"))\n",
    "if year%400==0:\n",
    "    print(\"leap\")\n",
    "elif year%100==0:\n",
    "    print(\"not leap\")\n",
    "elif year%4==0:\n",
    "    print(\"leap\")\n",
    "else:\n",
    "    print(\"not a Leap year\")"
   ]
  },
  {
   "cell_type": "code",
   "execution_count": null,
   "id": "8183f4a6-b4c7-414f-ab57-cfb0f546d176",
   "metadata": {},
   "outputs": [],
   "source": []
  }
 ],
 "metadata": {
  "kernelspec": {
   "display_name": "Python 3 (ipykernel)",
   "language": "python",
   "name": "python3"
  },
  "language_info": {
   "codemirror_mode": {
    "name": "ipython",
    "version": 3
   },
   "file_extension": ".py",
   "mimetype": "text/x-python",
   "name": "python",
   "nbconvert_exporter": "python",
   "pygments_lexer": "ipython3",
   "version": "3.13.5"
  }
 },
 "nbformat": 4,
 "nbformat_minor": 5
}
