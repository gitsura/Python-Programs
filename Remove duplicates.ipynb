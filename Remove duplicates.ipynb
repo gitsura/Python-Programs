{
 "cells": [
  {
   "cell_type": "code",
   "execution_count": 2,
   "id": "b78e1cc9-754d-41fe-87bc-9bbd4044753b",
   "metadata": {},
   "outputs": [
    {
     "name": "stdout",
     "output_type": "stream",
     "text": [
      "[1, 2, 3, 4]\n"
     ]
    }
   ],
   "source": [
    "nums=[1,2,1,1,3,3,4,2,1]\n",
    "without_duplicates=[]\n",
    "for i in nums:\n",
    "    if i not in without_duplicates:\n",
    "        without_duplicates.append(i)\n",
    "print(without_duplicates)"
   ]
  }
 ],
 "metadata": {
  "kernelspec": {
   "display_name": "Python 3 (ipykernel)",
   "language": "python",
   "name": "python3"
  },
  "language_info": {
   "codemirror_mode": {
    "name": "ipython",
    "version": 3
   },
   "file_extension": ".py",
   "mimetype": "text/x-python",
   "name": "python",
   "nbconvert_exporter": "python",
   "pygments_lexer": "ipython3",
   "version": "3.13.5"
  }
 },
 "nbformat": 4,
 "nbformat_minor": 5
}
