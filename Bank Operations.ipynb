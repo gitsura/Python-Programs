{
 "cells": [
  {
   "cell_type": "code",
   "execution_count": 1,
   "id": "b8970a59-a656-4282-8bf8-6b0aeba6608c",
   "metadata": {},
   "outputs": [
    {
     "name": "stdout",
     "output_type": "stream",
     "text": [
      "***Welcome to HDFC Bank***\n",
      " Choose your menu option\n",
      "    1.Check balance\n",
      "    2.Deposit Money\n",
      "    3.Withdraw Money\n",
      "    4.Exit\n"
     ]
    },
    {
     "name": "stdin",
     "output_type": "stream",
     "text": [
      "Enter the choice:: 1\n"
     ]
    },
    {
     "name": "stdout",
     "output_type": "stream",
     "text": [
      "Your account Balance is 10000\n",
      "***Welcome to HDFC Bank***\n",
      " Choose your menu option\n",
      "    1.Check balance\n",
      "    2.Deposit Money\n",
      "    3.Withdraw Money\n",
      "    4.Exit\n"
     ]
    },
    {
     "name": "stdin",
     "output_type": "stream",
     "text": [
      "Enter the choice:: 2\n",
      "Enter the amount to deposit 20000\n"
     ]
    },
    {
     "name": "stdout",
     "output_type": "stream",
     "text": [
      "Money is deposited successfully\n",
      "***Welcome to HDFC Bank***\n",
      " Choose your menu option\n",
      "    1.Check balance\n",
      "    2.Deposit Money\n",
      "    3.Withdraw Money\n",
      "    4.Exit\n"
     ]
    },
    {
     "name": "stdin",
     "output_type": "stream",
     "text": [
      "Enter the choice:: 3\n",
      "Enter the amount to withdraw 5000\n"
     ]
    },
    {
     "name": "stdout",
     "output_type": "stream",
     "text": [
      "Money is withdrawn successfully\n",
      "***Welcome to HDFC Bank***\n",
      " Choose your menu option\n",
      "    1.Check balance\n",
      "    2.Deposit Money\n",
      "    3.Withdraw Money\n",
      "    4.Exit\n"
     ]
    },
    {
     "name": "stdin",
     "output_type": "stream",
     "text": [
      "Enter the choice:: 8\n"
     ]
    },
    {
     "name": "stdout",
     "output_type": "stream",
     "text": [
      "Enter valid Choice\n",
      "***Welcome to HDFC Bank***\n",
      " Choose your menu option\n",
      "    1.Check balance\n",
      "    2.Deposit Money\n",
      "    3.Withdraw Money\n",
      "    4.Exit\n"
     ]
    },
    {
     "name": "stdin",
     "output_type": "stream",
     "text": [
      "Enter the choice:: 4\n"
     ]
    },
    {
     "name": "stdout",
     "output_type": "stream",
     "text": [
      "Thank you for choosing HDFC\n"
     ]
    }
   ],
   "source": [
    "Balance=10000\n",
    "while True:\n",
    "    print(\"***Welcome to HDFC Bank***\")\n",
    "    print(''' Choose your menu option\n",
    "    1.Check balance\n",
    "    2.Deposit Money\n",
    "    3.Withdraw Money\n",
    "    4.Exit''')\n",
    "    choice=input(\"Enter the choice::\")\n",
    "    if choice=='1':\n",
    "        print(\"Your account Balance is\",Balance)\n",
    "    elif choice=='2':\n",
    "        amount=int(input(\"Enter the amount to deposit\"))\n",
    "        if amount>0:\n",
    "            Balance=Balance+amount\n",
    "            print(\"Money is deposited successfully\")\n",
    "        else:\n",
    "            print(\"Enter valid amount\")\n",
    "    elif choice=='3':\n",
    "        amount=int(input(\"Enter the amount to withdraw\"))\n",
    "        if (Balance>=amount) and amount>0:\n",
    "            Balance=Balance-amount\n",
    "            print(\"Money is withdrawn successfully\")\n",
    "        else:\n",
    "            print(\"Enter valid amount\")\n",
    "    elif choice=='4':\n",
    "        print(\"Thank you for choosing HDFC\")\n",
    "        break\n",
    "    else:\n",
    "        print(\"Enter valid Choice\")"
   ]
  },
  {
   "cell_type": "code",
   "execution_count": null,
   "id": "d501e228-42c3-4cbc-b649-493a1c0be910",
   "metadata": {},
   "outputs": [],
   "source": []
  }
 ],
 "metadata": {
  "kernelspec": {
   "display_name": "Python 3 (ipykernel)",
   "language": "python",
   "name": "python3"
  },
  "language_info": {
   "codemirror_mode": {
    "name": "ipython",
    "version": 3
   },
   "file_extension": ".py",
   "mimetype": "text/x-python",
   "name": "python",
   "nbconvert_exporter": "python",
   "pygments_lexer": "ipython3",
   "version": "3.13.5"
  }
 },
 "nbformat": 4,
 "nbformat_minor": 5
}
