{
 "cells": [
  {
   "cell_type": "code",
   "execution_count": 2,
   "id": "82a53493-a90a-489b-bd96-19d166e8470f",
   "metadata": {},
   "outputs": [
    {
     "name": "stdout",
     "output_type": "stream",
     "text": [
      "36\n"
     ]
    }
   ],
   "source": [
    "a=12\n",
    "b=18\n",
    "if a>b:\n",
    "    lcm=a\n",
    "else:\n",
    "    lcm=b\n",
    "while True:\n",
    "    if lcm%a==0 and lcm%b==0:\n",
    "        break\n",
    "    lcm=lcm+1\n",
    "print(lcm)"
   ]
  },
  {
   "cell_type": "code",
   "execution_count": null,
   "id": "fad01da7-1f5e-4315-b7f9-0fb8f3ab5d56",
   "metadata": {},
   "outputs": [],
   "source": []
  }
 ],
 "metadata": {
  "kernelspec": {
   "display_name": "Python 3 (ipykernel)",
   "language": "python",
   "name": "python3"
  },
  "language_info": {
   "codemirror_mode": {
    "name": "ipython",
    "version": 3
   },
   "file_extension": ".py",
   "mimetype": "text/x-python",
   "name": "python",
   "nbconvert_exporter": "python",
   "pygments_lexer": "ipython3",
   "version": "3.13.5"
  }
 },
 "nbformat": 4,
 "nbformat_minor": 5
}
