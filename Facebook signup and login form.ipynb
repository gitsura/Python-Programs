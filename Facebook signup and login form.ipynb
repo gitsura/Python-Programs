{
 "cells": [
  {
   "cell_type": "code",
   "execution_count": 1,
   "id": "396c0937-fa49-4dc7-b86c-e9efa6966249",
   "metadata": {},
   "outputs": [
    {
     "name": "stdin",
     "output_type": "stream",
     "text": [
      "Enter name:: varsha\n",
      "enter email varsha@123\n",
      "enter password 123\n",
      "enter phone number 6778\n"
     ]
    },
    {
     "data": {
      "text/plain": [
       "{'varsha@123': '123'}"
      ]
     },
     "execution_count": 1,
     "metadata": {},
     "output_type": "execute_result"
    }
   ],
   "source": [
    "database={}\n",
    "name=input(\"Enter name::\")\n",
    "email_id=input(\"enter email\").lower()\n",
    "password=input(\"enter password\")\n",
    "phone=int(input(\"enter phone number\"))\n",
    "database.update({email_id:password})\n",
    "database"
   ]
  },
  {
   "cell_type": "code",
   "execution_count": 2,
   "id": "a9f42101-771d-4572-86b1-a3053de5c02d",
   "metadata": {},
   "outputs": [
    {
     "name": "stdin",
     "output_type": "stream",
     "text": [
      "Enter email id varsha@123\n",
      "enter the password 123\n"
     ]
    },
    {
     "name": "stdout",
     "output_type": "stream",
     "text": [
      "login successful\n"
     ]
    }
   ],
   "source": [
    "email=input(\"Enter email id\").lower()\n",
    "password2=input(\"enter the password\")\n",
    "if email in database.keys():\n",
    "    if database[email]==password2:\n",
    "        print(\"login successful\")\n",
    "    else:\n",
    "        print(\"invalid login credentials\")\n",
    "else:\n",
    "    print(\"kindly signup firtst\")"
   ]
  },
  {
   "cell_type": "code",
   "execution_count": 2,
   "id": "3a1518b1-5b16-4a97-b34e-e54896c11cc6",
   "metadata": {},
   "outputs": [
    {
     "name": "stdin",
     "output_type": "stream",
     "text": [
      " va\n",
      " va@\n",
      " 12\n",
      " 888\n"
     ]
    },
    {
     "data": {
      "text/plain": [
       "{'va@': '888'}"
      ]
     },
     "execution_count": 2,
     "metadata": {},
     "output_type": "execute_result"
    }
   ],
   "source": [
    "d={}\n",
    "n=input()\n",
    "e=input()\n",
    "p=input()\n",
    "p=input()\n",
    "d.update({e:p})\n",
    "d"
   ]
  },
  {
   "cell_type": "code",
   "execution_count": null,
   "id": "46a34a1d-438d-4f40-8cb2-ba4d5c1818ff",
   "metadata": {},
   "outputs": [
    {
     "name": "stdin",
     "output_type": "stream",
     "text": [
      " va@\n"
     ]
    }
   ],
   "source": [
    "e1=input()\n",
    "p2=input()\n",
    "if e1 in d.keys():\n",
    "    if d[e2]==p2:\n",
    "        print(\"yes\")\n",
    "    else:\n",
    "        print(\"no\")\n",
    "else:\n",
    "    print(\"no\")"
   ]
  },
  {
   "cell_type": "code",
   "execution_count": null,
   "id": "ca28187d-cc4b-47a5-9f3e-d8aff3f808d7",
   "metadata": {},
   "outputs": [],
   "source": []
  }
 ],
 "metadata": {
  "kernelspec": {
   "display_name": "Python 3 (ipykernel)",
   "language": "python",
   "name": "python3"
  },
  "language_info": {
   "codemirror_mode": {
    "name": "ipython",
    "version": 3
   },
   "file_extension": ".py",
   "mimetype": "text/x-python",
   "name": "python",
   "nbconvert_exporter": "python",
   "pygments_lexer": "ipython3",
   "version": "3.13.5"
  }
 },
 "nbformat": 4,
 "nbformat_minor": 5
}
