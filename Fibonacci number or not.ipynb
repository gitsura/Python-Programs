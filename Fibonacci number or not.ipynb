{
 "cells": [
  {
   "cell_type": "code",
   "execution_count": 9,
   "id": "37fec2b0-1b5a-43f0-8838-799bbfff58d0",
   "metadata": {},
   "outputs": [
    {
     "name": "stdout",
     "output_type": "stream",
     "text": [
      "fibonacci\n"
     ]
    }
   ],
   "source": [
    "import math\n",
    "n=5\n",
    "exp1=5*n*n+4\n",
    "exp2=5*n*n-4\n",
    "sqrt1=math.isqrt(exp1)\n",
    "sqrt2=math.isqrt(exp2)\n",
    "if sqrt1*sqrt1==exp1 or sqrt2*sqrt2==exp2:\n",
    "    print(\"fibonacci\")\n",
    "else:\n",
    "    print(\"not fibonacci\")"
   ]
  },
  {
   "cell_type": "code",
   "execution_count": null,
   "id": "254ce2af-eabf-49b9-b7fe-748086c7a65c",
   "metadata": {},
   "outputs": [],
   "source": []
  }
 ],
 "metadata": {
  "kernelspec": {
   "display_name": "Python 3 (ipykernel)",
   "language": "python",
   "name": "python3"
  },
  "language_info": {
   "codemirror_mode": {
    "name": "ipython",
    "version": 3
   },
   "file_extension": ".py",
   "mimetype": "text/x-python",
   "name": "python",
   "nbconvert_exporter": "python",
   "pygments_lexer": "ipython3",
   "version": "3.13.5"
  }
 },
 "nbformat": 4,
 "nbformat_minor": 5
}
