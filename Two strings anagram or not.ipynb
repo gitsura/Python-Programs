{
 "cells": [
  {
   "cell_type": "code",
   "execution_count": 5,
   "id": "12a93545-6466-40fa-a817-5bc2b3147252",
   "metadata": {},
   "outputs": [
    {
     "name": "stdout",
     "output_type": "stream",
     "text": [
      "anagram\n"
     ]
    }
   ],
   "source": [
    "str1=\"varsha\"\n",
    "str2=\"avshar\"\n",
    "text1=sorted(str1)\n",
    "text2=sorted(str2)\n",
    "str1=str1.replace(\" \",\"\").lower()\n",
    "str2=str2.replace(\" \",\"\").lower()\n",
    "if text1==text2:\n",
    "    print(\"anagram\")\n",
    "else:\n",
    "    print(\"not anagram\")"
   ]
  },
  {
   "cell_type": "code",
   "execution_count": null,
   "id": "98711999-f19c-4534-8434-de77387dc907",
   "metadata": {},
   "outputs": [],
   "source": []
  }
 ],
 "metadata": {
  "kernelspec": {
   "display_name": "Python 3 (ipykernel)",
   "language": "python",
   "name": "python3"
  },
  "language_info": {
   "codemirror_mode": {
    "name": "ipython",
    "version": 3
   },
   "file_extension": ".py",
   "mimetype": "text/x-python",
   "name": "python",
   "nbconvert_exporter": "python",
   "pygments_lexer": "ipython3",
   "version": "3.13.5"
  }
 },
 "nbformat": 4,
 "nbformat_minor": 5
}
