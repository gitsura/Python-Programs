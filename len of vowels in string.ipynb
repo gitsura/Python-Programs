{
 "cells": [
  {
   "cell_type": "code",
   "execution_count": 1,
   "id": "f5f92a86-114d-4122-8b99-ec9523330a96",
   "metadata": {},
   "outputs": [
    {
     "name": "stdout",
     "output_type": "stream",
     "text": [
      "8\n"
     ]
    }
   ],
   "source": [
    "name='innomatics reseach labs'\n",
    "vowels='aeiou'\n",
    "list1=[]\n",
    "for i in name:\n",
    "    if i in vowels:\n",
    "        list1.append(i)\n",
    "print(len(list1))"
   ]
  },
  {
   "cell_type": "code",
   "execution_count": null,
   "id": "718db128-c36a-4359-9fca-3e7b6cab338a",
   "metadata": {},
   "outputs": [],
   "source": [
    "# By using count"
   ]
  },
  {
   "cell_type": "code",
   "execution_count": 3,
   "id": "894d97bc-5741-4f93-9a5a-8a52a17d1772",
   "metadata": {},
   "outputs": [
    {
     "name": "stdout",
     "output_type": "stream",
     "text": [
      "8\n"
     ]
    }
   ],
   "source": [
    "name='innomatics reseach labs'\n",
    "vowels='aeiou'\n",
    "count=0\n",
    "for i in name:\n",
    "    if i in vowels:\n",
    "        count=count+1\n",
    "print(count)"
   ]
  },
  {
   "cell_type": "code",
   "execution_count": null,
   "id": "c3384083-136e-4a4c-ac22-f2c3a2a2d9f4",
   "metadata": {},
   "outputs": [],
   "source": []
  }
 ],
 "metadata": {
  "kernelspec": {
   "display_name": "Python 3 (ipykernel)",
   "language": "python",
   "name": "python3"
  },
  "language_info": {
   "codemirror_mode": {
    "name": "ipython",
    "version": 3
   },
   "file_extension": ".py",
   "mimetype": "text/x-python",
   "name": "python",
   "nbconvert_exporter": "python",
   "pygments_lexer": "ipython3",
   "version": "3.13.5"
  }
 },
 "nbformat": 4,
 "nbformat_minor": 5
}
