{
 "cells": [
  {
   "cell_type": "code",
   "execution_count": 26,
   "id": "756457d7-2892-4ae5-bd12-630e518c21e1",
   "metadata": {},
   "outputs": [
    {
     "name": "stdout",
     "output_type": "stream",
     "text": [
      "1 1 1\n",
      "1 2 1\n",
      "1 3 1\n",
      "1 4 1\n",
      "1 5 1\n",
      "2 1 1\n",
      "2 2 1\n",
      "2 3 1\n",
      "2 4 1\n",
      "2 5 1\n",
      "3 1 1\n",
      "3 2 1\n",
      "3 3 1\n",
      "3 4 1\n",
      "3 5 1\n",
      "4 1 1\n",
      "4 2 1\n",
      "4 3 1\n",
      "4 4 1\n",
      "4 5 1\n",
      "5 1 1\n",
      "5 2 1\n",
      "5 3 1\n",
      "5 4 1\n",
      "5 5 1\n",
      "1 1 2\n",
      "1 2 2\n",
      "1 3 2\n",
      "1 4 2\n",
      "1 5 2\n",
      "2 1 2\n",
      "2 2 2\n",
      "2 3 2\n",
      "2 4 2\n",
      "2 5 2\n",
      "3 1 2\n",
      "3 2 2\n",
      "3 3 2\n",
      "3 4 2\n",
      "3 5 2\n",
      "4 1 2\n",
      "4 2 2\n",
      "4 3 2\n",
      "4 4 2\n",
      "4 5 2\n",
      "5 1 2\n",
      "5 2 2\n",
      "5 3 2\n",
      "5 4 2\n",
      "5 5 2\n",
      "1 1 3\n",
      "1 2 3\n",
      "1 3 3\n",
      "1 4 3\n",
      "1 5 3\n",
      "2 1 3\n",
      "2 2 3\n",
      "2 3 3\n",
      "2 4 3\n",
      "2 5 3\n",
      "3 1 3\n",
      "3 2 3\n",
      "3 3 3\n",
      "3 4 3\n",
      "3 5 3\n",
      "4 1 3\n",
      "4 2 3\n",
      "4 3 3\n",
      "4 4 3\n",
      "4 5 3\n",
      "5 1 3\n",
      "5 2 3\n",
      "5 3 3\n",
      "5 4 3\n",
      "5 5 3\n",
      "1 1 4\n",
      "1 2 4\n",
      "1 3 4\n",
      "1 4 4\n",
      "1 5 4\n",
      "2 1 4\n",
      "2 2 4\n",
      "2 3 4\n",
      "2 4 4\n",
      "2 5 4\n",
      "3 1 4\n",
      "3 2 4\n",
      "3 3 4\n",
      "3 4 4\n",
      "3 5 4\n",
      "4 1 4\n",
      "4 2 4\n",
      "4 3 4\n",
      "4 4 4\n",
      "4 5 4\n",
      "5 1 4\n",
      "5 2 4\n",
      "5 3 4\n",
      "5 4 4\n",
      "5 5 4\n",
      "1 1 5\n",
      "1 2 5\n",
      "1 3 5\n",
      "1 4 5\n",
      "1 5 5\n",
      "2 1 5\n",
      "2 2 5\n",
      "2 3 5\n",
      "2 4 5\n",
      "2 5 5\n",
      "3 1 5\n",
      "3 2 5\n",
      "3 3 5\n",
      "3 4 5\n",
      "3 5 5\n",
      "4 1 5\n",
      "4 2 5\n",
      "4 3 5\n",
      "4 4 5\n",
      "4 5 5\n",
      "5 1 5\n",
      "5 2 5\n",
      "5 3 5\n",
      "5 4 5\n",
      "5 5 5\n"
     ]
    }
   ],
   "source": [
    "for i in range(1,6):\n",
    "    for j in range(1,6):\n",
    "        for k in range(1,6):\n",
    "            print(j,k,i)"
   ]
  },
  {
   "cell_type": "markdown",
   "id": "c49d6085-769f-4e7c-aff8-1cb0839f1929",
   "metadata": {},
   "source": [
    "# *(Star) Pattern"
   ]
  },
  {
   "cell_type": "markdown",
   "id": "159190b3-f49d-4c0e-9a89-9357732c6dd2",
   "metadata": {},
   "source": [
    "# Right angle half pyramid"
   ]
  },
  {
   "cell_type": "code",
   "execution_count": 2,
   "id": "3468f68d-3d0a-409f-b3c8-f34cdc4e6ac0",
   "metadata": {},
   "outputs": [
    {
     "name": "stdin",
     "output_type": "stream",
     "text": [
      "Enter number of rows 5\n"
     ]
    },
    {
     "name": "stdout",
     "output_type": "stream",
     "text": [
      "* \n",
      "* * \n",
      "* * * \n",
      "* * * * \n",
      "* * * * * \n"
     ]
    }
   ],
   "source": [
    "rows=int(input(\"Enter number of rows\"))\n",
    "for i in range(1,rows+1):\n",
    "    print('* '*i)"
   ]
  },
  {
   "cell_type": "markdown",
   "id": "a2744823-b9d3-44b2-98af-ca916ef06284",
   "metadata": {},
   "source": [
    "# Right angle inverted half pyramid"
   ]
  },
  {
   "cell_type": "code",
   "execution_count": 21,
   "id": "e7807f2f-85b9-40bc-b3fc-fb8a7254b7ae",
   "metadata": {},
   "outputs": [
    {
     "name": "stdin",
     "output_type": "stream",
     "text": [
      "Enter number of rows 5\n"
     ]
    },
    {
     "name": "stdout",
     "output_type": "stream",
     "text": [
      "* * * * * \n",
      "* * * * \n",
      "* * * \n",
      "* * \n",
      "* \n"
     ]
    }
   ],
   "source": [
    "rows=int(input(\"Enter number of rows\"))\n",
    "for i in range(5,0,-1):\n",
    "    print(\"* \"*i)"
   ]
  },
  {
   "cell_type": "markdown",
   "id": "eae95dcb-6b88-4909-acd6-8c08da28fcb4",
   "metadata": {},
   "source": [
    "# Left wing of butterfly"
   ]
  },
  {
   "cell_type": "code",
   "execution_count": 6,
   "id": "d8b0282c-66db-4ada-b7be-fe18a1d20dde",
   "metadata": {},
   "outputs": [
    {
     "name": "stdin",
     "output_type": "stream",
     "text": [
      "Enter number of rows 5\n"
     ]
    },
    {
     "name": "stdout",
     "output_type": "stream",
     "text": [
      "* \n",
      "* * \n",
      "* * * \n",
      "* * * * \n",
      "* * * * * \n",
      "* * * * * \n",
      "* * * * \n",
      "* * * \n",
      "* * \n",
      "* \n"
     ]
    }
   ],
   "source": [
    "rows=int(input(\"Enter number of rows\"))\n",
    "for i in range(1,rows+1):\n",
    "    print('* '*i)\n",
    "for i in range(5,0,-1):\n",
    "    print(\"* \"*i)\n"
   ]
  },
  {
   "cell_type": "markdown",
   "id": "f57f268b-2026-45ea-95f5-5e2ea0ed3101",
   "metadata": {},
   "source": [
    "# Left angle half pyramid"
   ]
  },
  {
   "cell_type": "code",
   "execution_count": 13,
   "id": "31bd5153-17d3-4bed-abdb-77db2b7919f9",
   "metadata": {},
   "outputs": [
    {
     "name": "stdin",
     "output_type": "stream",
     "text": [
      "Enter number of rows 5\n"
     ]
    },
    {
     "name": "stdout",
     "output_type": "stream",
     "text": [
      "    *\n",
      "   **\n",
      "  ***\n",
      " ****\n",
      "*****\n"
     ]
    }
   ],
   "source": [
    "rows=int(input(\"Enter number of rows\"))\n",
    "for i in range(1,6):\n",
    "    print(' '*(rows-i)+'*'*i)"
   ]
  },
  {
   "cell_type": "markdown",
   "id": "0cccf4cf-70bc-45a4-b1ef-1902b45670dc",
   "metadata": {},
   "source": [
    "# Left angle inverted haf pyramid"
   ]
  },
  {
   "cell_type": "code",
   "execution_count": 14,
   "id": "7c803bca-a9dc-473c-881c-e29349c0a9f1",
   "metadata": {},
   "outputs": [
    {
     "name": "stdin",
     "output_type": "stream",
     "text": [
      "Enter number of rows 5\n"
     ]
    },
    {
     "name": "stdout",
     "output_type": "stream",
     "text": [
      "*****\n",
      " ****\n",
      "  ***\n",
      "   **\n",
      "    *\n"
     ]
    }
   ],
   "source": [
    "rows=int(input(\"Enter number of rows\"))\n",
    "for i in range(5,0,-1):\n",
    "    print(' '*(rows-i)+'*'*i)"
   ]
  },
  {
   "cell_type": "markdown",
   "id": "11dd474e-3f47-4f6b-a646-b5e71f7e2f66",
   "metadata": {},
   "source": [
    "# Right wing of butterfly"
   ]
  },
  {
   "cell_type": "code",
   "execution_count": 17,
   "id": "014cb2de-c422-4fdf-b6c7-2d02db38f0e1",
   "metadata": {},
   "outputs": [
    {
     "name": "stdin",
     "output_type": "stream",
     "text": [
      "Enter number of rows 5\n"
     ]
    },
    {
     "name": "stdout",
     "output_type": "stream",
     "text": [
      "    *\n",
      "   **\n",
      "  ***\n",
      " ****\n",
      "*****\n",
      "*****\n",
      " ****\n",
      "  ***\n",
      "   **\n",
      "    *\n"
     ]
    }
   ],
   "source": [
    "rows=int(input(\"Enter number of rows\"))\n",
    "for i in range(1,rows+1):\n",
    "    print(' '*(rows-i)+'*'*i)\n",
    "for i in range(rows,0,-1):\n",
    "    print(' '*(rows-i)+'*'*i)"
   ]
  },
  {
   "cell_type": "markdown",
   "id": "4acfae27-892d-4a8d-80d2-ca5f8a97ce9d",
   "metadata": {},
   "source": [
    "# Full butterfly"
   ]
  },
  {
   "cell_type": "code",
   "execution_count": 20,
   "id": "e259afc9-485c-43b7-bb6a-017359840a25",
   "metadata": {},
   "outputs": [
    {
     "name": "stdin",
     "output_type": "stream",
     "text": [
      "Enter number of rows 5\n"
     ]
    },
    {
     "name": "stdout",
     "output_type": "stream",
     "text": [
      "*        *\n",
      "**      **\n",
      "***    ***\n",
      "****  ****\n",
      "**********\n",
      "**********\n",
      "****  ****\n",
      "***    ***\n",
      "**      **\n",
      "*        *\n"
     ]
    }
   ],
   "source": [
    "rows=int(input(\"Enter number of rows\"))\n",
    "for i in range(1,rows+1):\n",
    "    print('*'*i+' '*(rows-i)+' '*(rows-i)+'*'*i)\n",
    "for i in range(rows,0,-1):\n",
    "    print(\"*\"*i+' '*(rows-i)+' '*(rows-i)+'*'*i)"
   ]
  },
  {
   "cell_type": "markdown",
   "id": "2c157eb0-3b23-4a31-b2fa-2d1cb9b35a5d",
   "metadata": {},
   "source": [
    "# Flying butterfly"
   ]
  },
  {
   "cell_type": "code",
   "execution_count": 25,
   "id": "3521fba1-4274-461e-b80c-ae2aa128a67f",
   "metadata": {},
   "outputs": [
    {
     "name": "stdin",
     "output_type": "stream",
     "text": [
      "Enter number of rows 5\n"
     ]
    },
    {
     "name": "stdout",
     "output_type": "stream",
     "text": [
      "**********\n",
      " ********\n",
      "  ******\n",
      "   ****\n",
      "    **\n",
      "    **\n",
      "   ****\n",
      "  ******\n",
      " ********\n",
      "**********\n"
     ]
    }
   ],
   "source": [
    "rows=int(input(\"Enter number of rows\"))\n",
    "for i in range(rows,0,-1):\n",
    "    print(' '*(rows-i)+'*'*i+\"*\"*i)\n",
    "for i in range(1,rows+1):\n",
    "    print(' '*(rows-i)+'*'*i+'*'*i)\n",
    "    \n",
    " "
   ]
  },
  {
   "cell_type": "markdown",
   "id": "d535f0d6-1b57-40d9-b14a-da8b6852ea0a",
   "metadata": {},
   "source": [
    "# Hollow square"
   ]
  },
  {
   "cell_type": "code",
   "execution_count": 28,
   "id": "03cbccc0-19f6-4153-8e1a-5c88c8d8de7c",
   "metadata": {},
   "outputs": [
    {
     "name": "stdin",
     "output_type": "stream",
     "text": [
      "Enter number of rows 5\n"
     ]
    },
    {
     "name": "stdout",
     "output_type": "stream",
     "text": [
      "*****\n",
      "*   *\n",
      "*   *\n",
      "*   *\n",
      "*****\n"
     ]
    }
   ],
   "source": [
    "rows=int(input(\"Enter number of rows\"))\n",
    "for i in range(1,6):\n",
    "    if i==2 or i==3 or i==4:\n",
    "        print(\"*\"+' '*3+\"*\")\n",
    "    else:\n",
    "        print('*'*5)\n",
    "    "
   ]
  },
  {
   "cell_type": "markdown",
   "id": "c5e6e61a-c835-479b-98ff-ba3d9e0a31e1",
   "metadata": {},
   "source": [
    "# Pyramid"
   ]
  },
  {
   "cell_type": "code",
   "execution_count": 30,
   "id": "a0d85b25-72ca-4853-b79c-54a0f2237da3",
   "metadata": {},
   "outputs": [
    {
     "name": "stdin",
     "output_type": "stream",
     "text": [
      "Enter number of rows 5\n"
     ]
    },
    {
     "name": "stdout",
     "output_type": "stream",
     "text": [
      "    * \n",
      "   * * \n",
      "  * * * \n",
      " * * * * \n",
      "* * * * * \n"
     ]
    }
   ],
   "source": [
    "rows=int(input(\"Enter number of rows\"))\n",
    "for i in range(1,6):\n",
    "    print(' '*(rows-i)+'* '*i)\n"
   ]
  },
  {
   "cell_type": "code",
   "execution_count": 31,
   "id": "e6015fb1-86f2-44c4-b540-6d92e09985b0",
   "metadata": {},
   "outputs": [
    {
     "name": "stdin",
     "output_type": "stream",
     "text": [
      "Enter number of rows 5\n"
     ]
    },
    {
     "name": "stdout",
     "output_type": "stream",
     "text": [
      "    *\n",
      "   ***\n",
      "  *****\n",
      " *******\n",
      "*********\n"
     ]
    }
   ],
   "source": [
    "rows=int(input(\"Enter number of rows\"))\n",
    "j=0\n",
    "for i in range(1,6):\n",
    "    print(' '*(rows-i)+'*'*(i+j))\n",
    "    j+=1"
   ]
  },
  {
   "cell_type": "markdown",
   "id": "e3ba985f-f12e-422e-abc9-ef6d6016f84a",
   "metadata": {},
   "source": [
    "# Inverted pyramid"
   ]
  },
  {
   "cell_type": "code",
   "execution_count": 32,
   "id": "79bcf882-b918-4e09-8506-e178d7db6457",
   "metadata": {},
   "outputs": [
    {
     "name": "stdin",
     "output_type": "stream",
     "text": [
      "Enter number of rows 5\n"
     ]
    },
    {
     "name": "stdout",
     "output_type": "stream",
     "text": [
      "*********\n",
      " *******\n",
      "  *****\n",
      "   ***\n",
      "    *\n"
     ]
    }
   ],
   "source": [
    "rows=int(input(\"Enter number of rows\"))\n",
    "j=4\n",
    "for i in range(rows,0,-1):\n",
    "    print(' '*(rows-i)+'*'*(i+j))\n",
    "    j-=1"
   ]
  },
  {
   "cell_type": "markdown",
   "id": "d896a0d8-1784-47c5-8daf-e498ae001de6",
   "metadata": {},
   "source": [
    "# Diamond"
   ]
  },
  {
   "cell_type": "code",
   "execution_count": 34,
   "id": "f1a8c76a-7e3b-41c1-92f6-9f4b00ecb9a5",
   "metadata": {},
   "outputs": [
    {
     "name": "stdin",
     "output_type": "stream",
     "text": [
      "Enter number of rows 5\n"
     ]
    },
    {
     "name": "stdout",
     "output_type": "stream",
     "text": [
      "    *\n",
      "   ***\n",
      "  *****\n",
      " *******\n",
      "*********\n",
      "*********\n",
      " *******\n",
      "  *****\n",
      "   ***\n",
      "    *\n"
     ]
    }
   ],
   "source": [
    "rows=int(input(\"Enter number of rows\"))\n",
    "j=0\n",
    "for i in range(1,6):\n",
    "    print(' '*(rows-i)+'*'*(i+j))\n",
    "    j+=1\n",
    "j=4\n",
    "for i in range(rows,0,-1):\n",
    "    \n",
    "    print(' '*(rows-i)+'*'*(i+j))\n",
    "    j-=1"
   ]
  },
  {
   "cell_type": "markdown",
   "id": "b676f39f-ad55-43f0-8ff2-0d4695fec385",
   "metadata": {},
   "source": [
    "# Inverted diamond"
   ]
  },
  {
   "cell_type": "code",
   "execution_count": 36,
   "id": "004112d1-bad2-46f0-a9f8-1f9e4fb80432",
   "metadata": {},
   "outputs": [
    {
     "name": "stdin",
     "output_type": "stream",
     "text": [
      "Enter number of rows 5\n"
     ]
    },
    {
     "name": "stdout",
     "output_type": "stream",
     "text": [
      "* * * * * \n",
      " * * * * \n",
      "  * * * \n",
      "   * * \n",
      "    * \n"
     ]
    }
   ],
   "source": [
    "rows=int(input(\"Enter number of rows\"))\n",
    "for i in range(rows,0,-1):\n",
    "    print(' '*(rows-i)+'* '*i)"
   ]
  },
  {
   "cell_type": "markdown",
   "id": "bb30c911-23d0-468c-8690-e8f04593161b",
   "metadata": {},
   "source": [
    "# Diamond"
   ]
  },
  {
   "cell_type": "code",
   "execution_count": 37,
   "id": "303f96d3-91f1-46ea-b152-b0bec4bc42c4",
   "metadata": {},
   "outputs": [
    {
     "name": "stdin",
     "output_type": "stream",
     "text": [
      "Enter number of rows 5\n"
     ]
    },
    {
     "name": "stdout",
     "output_type": "stream",
     "text": [
      "    * \n",
      "   * * \n",
      "  * * * \n",
      " * * * * \n",
      "* * * * * \n",
      "* * * * * \n",
      " * * * * \n",
      "  * * * \n",
      "   * * \n",
      "    * \n"
     ]
    }
   ],
   "source": [
    "rows=int(input(\"Enter number of rows\"))\n",
    "for i in range(1,6):\n",
    "    print(' '*(rows-i)+'* '*i)\n",
    "for i in range(rows,0,-1):\n",
    "    print(' '*(rows-i)+'* '*i)"
   ]
  },
  {
   "cell_type": "markdown",
   "id": "87bcc585-57f7-46ed-a979-72fe334058b6",
   "metadata": {},
   "source": [
    "# Number pattern"
   ]
  },
  {
   "cell_type": "markdown",
   "id": "4ee48519-5367-4b44-be25-cb3fac9dd674",
   "metadata": {},
   "source": [
    "# Right angle half pyramid with numbers"
   ]
  },
  {
   "cell_type": "code",
   "execution_count": 51,
   "id": "83c66163-f9a1-4dfa-992b-1e1247c7e719",
   "metadata": {},
   "outputs": [
    {
     "name": "stdin",
     "output_type": "stream",
     "text": [
      "Enter number of rows 5\n"
     ]
    },
    {
     "name": "stdout",
     "output_type": "stream",
     "text": [
      "1\n",
      "12\n",
      "123\n",
      "1234\n",
      "12345\n"
     ]
    }
   ],
   "source": [
    "rows=int(input(\"Enter number of rows\"))\n",
    "for i in range(1,6):\n",
    "    for j in range(1,i+1):\n",
    "     print(j,end='')\n",
    "    print() "
   ]
  },
  {
   "cell_type": "markdown",
   "id": "9872ea1c-eaa1-4584-8b43-97bd17cccef1",
   "metadata": {},
   "source": [
    "# Inverted left angle half pyramid with numbers"
   ]
  },
  {
   "cell_type": "code",
   "execution_count": 61,
   "id": "9ce80655-36f7-495e-b2e6-94919eb4b491",
   "metadata": {},
   "outputs": [
    {
     "name": "stdin",
     "output_type": "stream",
     "text": [
      "Enter number of rows 5\n"
     ]
    },
    {
     "name": "stdout",
     "output_type": "stream",
     "text": [
      "12345\n",
      " 1234\n",
      "  123\n",
      "   12\n",
      "    1\n"
     ]
    }
   ],
   "source": [
    "rows=int(input(\"Enter number of rows\"))\n",
    "for i in range(rows,0,-1):\n",
    "    for k in range(rows-i):\n",
    "        print(\" \",end='')\n",
    "    for j in range(1,i+1):\n",
    "        print(j,end='')\n",
    "    print()"
   ]
  },
  {
   "cell_type": "markdown",
   "id": "aede7dfd-43d9-445e-9a55-b4ac0068b1c2",
   "metadata": {},
   "source": [
    "# Inverted right angle half pyramid with numbers"
   ]
  },
  {
   "cell_type": "code",
   "execution_count": 64,
   "id": "ed60d95f-b245-4b0e-95e2-7a8e42a22fb1",
   "metadata": {},
   "outputs": [
    {
     "name": "stdin",
     "output_type": "stream",
     "text": [
      "Enter number of rows 5\n"
     ]
    },
    {
     "name": "stdout",
     "output_type": "stream",
     "text": [
      "12345\n",
      "1234\n",
      "123\n",
      "12\n",
      "1\n"
     ]
    }
   ],
   "source": [
    "rows=int(input(\"Enter number of rows\"))\n",
    "for i in range(rows,0,-1):\n",
    "    for j in range(1,i+1):\n",
    "     print(j,end='')\n",
    "    print()"
   ]
  },
  {
   "cell_type": "markdown",
   "id": "59fb2e65-2f67-48dc-9f4f-0a9bc35974b0",
   "metadata": {},
   "source": [
    "# Left wing of butterfly with numbers"
   ]
  },
  {
   "cell_type": "code",
   "execution_count": 65,
   "id": "3aa6d89f-9fb6-48d5-acba-2905ba3fd0ef",
   "metadata": {},
   "outputs": [
    {
     "name": "stdin",
     "output_type": "stream",
     "text": [
      "Enter number of rows 5\n"
     ]
    },
    {
     "name": "stdout",
     "output_type": "stream",
     "text": [
      "1\n",
      "12\n",
      "123\n",
      "1234\n",
      "12345\n",
      "12345\n",
      "1234\n",
      "123\n",
      "12\n",
      "1\n"
     ]
    }
   ],
   "source": [
    "rows=int(input(\"Enter number of rows\"))\n",
    "for i in range(1,6):\n",
    "    for j in range(1,i+1):\n",
    "     print(j,end='')\n",
    "    print() \n",
    "for i in range(rows,0,-1):\n",
    "    for j in range(1,i+1):\n",
    "     print(j,end='')\n",
    "    print()"
   ]
  },
  {
   "cell_type": "markdown",
   "id": "eb07ca39-8539-4a0b-8dd9-b2eb59696c23",
   "metadata": {},
   "source": [
    "# Left angle half pyramid with numbers"
   ]
  },
  {
   "cell_type": "code",
   "execution_count": 66,
   "id": "9ec602e2-9e19-49cd-9d19-a41f52a74ec7",
   "metadata": {},
   "outputs": [
    {
     "name": "stdin",
     "output_type": "stream",
     "text": [
      "Enter number of rows 5\n"
     ]
    },
    {
     "name": "stdout",
     "output_type": "stream",
     "text": [
      "    1\n",
      "   12\n",
      "  123\n",
      " 1234\n",
      "12345\n"
     ]
    }
   ],
   "source": [
    "rows=int(input(\"Enter number of rows\"))\n",
    "for i in range(1,rows+1):\n",
    "    for k in range(rows-i):\n",
    "        print(\" \",end='')\n",
    "    for j in range(1,i+1):\n",
    "        print(j,end='')\n",
    "    print()\n",
    "        "
   ]
  },
  {
   "cell_type": "markdown",
   "id": "bfda9e31-605c-4d91-8690-d5243a4adb3b",
   "metadata": {},
   "source": [
    "# Right wing of butterfly with numbers"
   ]
  },
  {
   "cell_type": "code",
   "execution_count": 1,
   "id": "8e85239c-c0fb-49e5-9e6d-a48e0c06e4b4",
   "metadata": {},
   "outputs": [
    {
     "name": "stdin",
     "output_type": "stream",
     "text": [
      "Enter number of rows 5\n"
     ]
    },
    {
     "name": "stdout",
     "output_type": "stream",
     "text": [
      "    1\n",
      "   12\n",
      "  123\n",
      " 1234\n",
      "12345\n",
      "12345\n",
      " 1234\n",
      "  123\n",
      "   12\n",
      "    1\n"
     ]
    }
   ],
   "source": [
    "rows=int(input(\"Enter number of rows\"))\n",
    "for i in range(1,rows+1):\n",
    "    for k in range(rows-i):\n",
    "        print(\" \",end='')\n",
    "    for j in range(1,i+1):\n",
    "        print(j,end='')\n",
    "    print()\n",
    "for i in range(rows,0,-1):\n",
    "    for k in range(rows-i):\n",
    "        print(\" \",end='')\n",
    "    for j in range(1,i+1):\n",
    "        print(j,end='')\n",
    "    print()"
   ]
  },
  {
   "cell_type": "markdown",
   "id": "7e704611-00d2-40a4-9eb2-f6612df42ed7",
   "metadata": {},
   "source": [
    "# Butterfly with numbers"
   ]
  },
  {
   "cell_type": "code",
   "execution_count": 24,
   "id": "b25b4286-b2c1-4c54-9c64-544fddee5a09",
   "metadata": {},
   "outputs": [
    {
     "name": "stdin",
     "output_type": "stream",
     "text": [
      "Enter number of rows 5\n"
     ]
    },
    {
     "name": "stdout",
     "output_type": "stream",
     "text": [
      "1        1\n",
      "12      12\n",
      "123    123\n",
      "1234  1234\n",
      "1234512345\n",
      "1234512345\n",
      "1234  1234\n",
      "123    123\n",
      "12      12\n",
      "1        1\n"
     ]
    }
   ],
   "source": [
    "rows=int(input(\"Enter number of rows\"))\n",
    "for i in range(1,6):\n",
    "    for j in range(1,i+1):\n",
    "     print(j,end='')\n",
    "    print(' '*(2*(rows-i)),end='')\n",
    "        \n",
    "    for l in range(1,i+1):\n",
    "        print(l,end='')\n",
    "    print()\n",
    "for i in range(rows,0,-1):\n",
    "    for j in range(1,i+1):\n",
    "     print(j,end='')\n",
    "    print(' '*(2*(rows-i)),end='')\n",
    "    for l in range(1,i+1):\n",
    "        print(l,end='')\n",
    "    print()"
   ]
  },
  {
   "cell_type": "markdown",
   "id": "ae2068bc-6544-4ea2-9432-19a0fd046eef",
   "metadata": {},
   "source": [
    "# Flying butterfly with numbers"
   ]
  },
  {
   "cell_type": "code",
   "execution_count": 29,
   "id": "a3c70057-8007-4843-b403-6025c8197862",
   "metadata": {},
   "outputs": [
    {
     "name": "stdin",
     "output_type": "stream",
     "text": [
      "Enter number of rows 5\n"
     ]
    },
    {
     "name": "stdout",
     "output_type": "stream",
     "text": [
      "1234512345\n",
      " 12341234\n",
      "  123123\n",
      "   1212\n",
      "    11\n",
      "    11\n",
      "   1212\n",
      "  123123\n",
      " 12341234\n",
      "1234512345\n"
     ]
    }
   ],
   "source": [
    "rows=int(input(\"Enter number of rows\"))\n",
    "for i in range(rows,0,-1):\n",
    "    for k in range(rows-i):\n",
    "        print(\" \",end='')\n",
    "    for j in range(1,i+1):\n",
    "        print(j,end='')\n",
    "    for j in range(1,i+1):\n",
    "        print(j,end='')\n",
    "    print()\n",
    "for i in range(1,rows+1):\n",
    "    for k in range(rows-i):\n",
    "        print(\" \",end='')\n",
    "    for j in range(1,i+1):\n",
    "        print(j,end='')\n",
    "    \n",
    "    for j in range(1,i+1):\n",
    "     print(j,end='')\n",
    "        \n",
    "    print()"
   ]
  },
  {
   "cell_type": "markdown",
   "id": "5f468bd2-4029-4dee-a0d5-20fae38df88d",
   "metadata": {},
   "source": [
    "# Pyramid with numbers"
   ]
  },
  {
   "cell_type": "code",
   "execution_count": 74,
   "id": "b4f6a079-4bcc-4a30-aef1-0356ce5c6d92",
   "metadata": {},
   "outputs": [
    {
     "name": "stdin",
     "output_type": "stream",
     "text": [
      "Enter number of rows 5\n"
     ]
    },
    {
     "name": "stdout",
     "output_type": "stream",
     "text": [
      "    1 \n",
      "   1 2 \n",
      "  1 2 3 \n",
      " 1 2 3 4 \n",
      "1 2 3 4 5 \n"
     ]
    }
   ],
   "source": [
    "rows=int(input(\"Enter number of rows\"))\n",
    "for i in range(1,rows+1):\n",
    "    for k in range(rows-i):\n",
    "        print(\" \",end='')\n",
    "    for j in range(1,i+1):\n",
    "        print(str(j)+' ',end='')\n",
    "    print() "
   ]
  },
  {
   "cell_type": "code",
   "execution_count": null,
   "id": "6233a1b4-ccf0-489a-8fa7-ec417ab35461",
   "metadata": {},
   "outputs": [],
   "source": [
    "# Pyramid\n"
   ]
  },
  {
   "cell_type": "code",
   "execution_count": 80,
   "id": "3c5e1b73-c631-438d-9854-5d24f829e888",
   "metadata": {},
   "outputs": [
    {
     "name": "stdin",
     "output_type": "stream",
     "text": [
      "Enter number of rows 5\n"
     ]
    },
    {
     "name": "stdout",
     "output_type": "stream",
     "text": [
      "    1\n",
      "   12\n",
      "  1234\n",
      " 1234567\n",
      "1234567891011\n"
     ]
    }
   ],
   "source": [
    "rows=int(input(\"Enter number of rows\"))\n",
    "j=1\n",
    "for i in range(1,rows+1):\n",
    "    for k in range(rows-i):\n",
    "        print(\" \",end='')\n",
    "    for j in range(1,i+j):\n",
    "        print(j,end='')\n",
    "    print()\n",
    "        "
   ]
  },
  {
   "cell_type": "markdown",
   "id": "ae7af135-2dbb-4003-b413-049fd898430f",
   "metadata": {},
   "source": [
    "# Inverted pyramid with numbers"
   ]
  },
  {
   "cell_type": "code",
   "execution_count": 75,
   "id": "68917a7f-e85e-4a94-bf6a-e13886f5d1a6",
   "metadata": {},
   "outputs": [
    {
     "name": "stdin",
     "output_type": "stream",
     "text": [
      "Enter number of rows 5\n"
     ]
    },
    {
     "name": "stdout",
     "output_type": "stream",
     "text": [
      "1 2 3 4 5 \n",
      " 1 2 3 4 \n",
      "  1 2 3 \n",
      "   1 2 \n",
      "    1 \n"
     ]
    }
   ],
   "source": [
    "rows=int(input(\"Enter number of rows\"))\n",
    "for i in range(rows,0,-1):\n",
    "    for j in range(rows-i):\n",
    "        print(\" \",end='')\n",
    "    for j in range(1,i+1):\n",
    "        print(str(j)+\" \",end='')\n",
    "    print()"
   ]
  },
  {
   "cell_type": "markdown",
   "id": "e30b32a9-894e-4600-8a97-f5ab9cc458d1",
   "metadata": {},
   "source": [
    "# Full pyramid with numbers"
   ]
  },
  {
   "cell_type": "code",
   "execution_count": 76,
   "id": "21ffa4d9-c3bb-4e3d-9939-8d6bd45d529b",
   "metadata": {},
   "outputs": [
    {
     "name": "stdin",
     "output_type": "stream",
     "text": [
      "Enter number of rows 5\n"
     ]
    },
    {
     "name": "stdout",
     "output_type": "stream",
     "text": [
      "    1 \n",
      "   1 2 \n",
      "  1 2 3 \n",
      " 1 2 3 4 \n",
      "1 2 3 4 5 \n",
      "1 2 3 4 5 \n",
      " 1 2 3 4 \n",
      "  1 2 3 \n",
      "   1 2 \n",
      "    1 \n"
     ]
    }
   ],
   "source": [
    "rows=int(input(\"Enter number of rows\"))\n",
    "for i in range(1,rows+1):\n",
    "    for k in range(rows-i):\n",
    "        print(\" \",end='')\n",
    "    for j in range(1,i+1):\n",
    "        print(str(j)+' ',end='')\n",
    "    print() \n",
    "for i in range(rows,0,-1):\n",
    "    for j in range(rows-i):\n",
    "        print(\" \",end='')\n",
    "    for j in range(1,i+1):\n",
    "        print(str(j)+\" \",end='')\n",
    "    print()"
   ]
  },
  {
   "cell_type": "markdown",
   "id": "9d2cc0cc-859a-4a06-8e63-1fba367793f4",
   "metadata": {},
   "source": [
    "# Floyd's Triangle(Continuous Triangle)"
   ]
  },
  {
   "cell_type": "code",
   "execution_count": 71,
   "id": "6f8f3100-c728-4694-b6b0-a0adea5f0940",
   "metadata": {},
   "outputs": [
    {
     "name": "stdin",
     "output_type": "stream",
     "text": [
      "Enter number of rows 5\n"
     ]
    },
    {
     "name": "stdout",
     "output_type": "stream",
     "text": [
      "1\t\n",
      "2\t3\t\n",
      "4\t5\t6\t\n",
      "7\t8\t9\t10\t\n",
      "11\t12\t13\t14\t15\t\n"
     ]
    }
   ],
   "source": [
    "rows=int(input(\"Enter number of rows\"))\n",
    "num=1\n",
    "for i in range(1,rows+1):\n",
    "    for j in range(i):\n",
    "        print(num,end='\\t')\n",
    "        num+=1\n",
    "    print()"
   ]
  },
  {
   "cell_type": "code",
   "execution_count": 37,
   "id": "8aace382-2267-4493-92f5-3dd416ab3a83",
   "metadata": {},
   "outputs": [
    {
     "name": "stdin",
     "output_type": "stream",
     "text": [
      "Enter number of rows 5\n"
     ]
    },
    {
     "name": "stdout",
     "output_type": "stream",
     "text": [
      "1\t2\t3\t4\t5\t\n",
      "6\t7\t8\t9\t\n",
      "10\t11\t12\t\n",
      "13\t14\t\n",
      "15\t\n"
     ]
    }
   ],
   "source": [
    "rows=int(input(\"Enter number of rows\"))\n",
    "num=1\n",
    "for i in range(rows,0,-1):\n",
    "    for j in range(i):\n",
    "        print(num,end='\\t')\n",
    "        num+=1\n",
    "    print()"
   ]
  },
  {
   "cell_type": "code",
   "execution_count": 45,
   "id": "4bc947bd-1ccc-42dd-b616-6e4e484f6055",
   "metadata": {},
   "outputs": [
    {
     "name": "stdin",
     "output_type": "stream",
     "text": [
      "Enter number of rows 5\n"
     ]
    },
    {
     "name": "stdout",
     "output_type": "stream",
     "text": [
      "    1\n",
      "   23\n",
      "  456\n",
      " 78910\n",
      "1112131415\n"
     ]
    }
   ],
   "source": [
    "rows=int(input(\"Enter number of rows\"))\n",
    "num=1\n",
    "for i in range(1,rows+1):\n",
    "    print(' '*(rows-i),end='')\n",
    "    for j in range(i):\n",
    "     \n",
    "     print(num,end='')\n",
    "     num+=1\n",
    "    \n",
    "    print()"
   ]
  },
  {
   "cell_type": "code",
   "execution_count": 48,
   "id": "1f6a71a3-3674-4c5b-8001-05d2b7597925",
   "metadata": {},
   "outputs": [
    {
     "name": "stdin",
     "output_type": "stream",
     "text": [
      "Enter number of rows 5\n"
     ]
    },
    {
     "name": "stdout",
     "output_type": "stream",
     "text": [
      "12345\n",
      " 6789\n",
      "  101112\n",
      "   1314\n",
      "    15\n"
     ]
    }
   ],
   "source": [
    "rows=int(input(\"Enter number of rows\"))\n",
    "num=1\n",
    "for i in range(rows,0,-1):\n",
    "    print(' '*(rows-i),end='')\n",
    "    for j in range(i):\n",
    "     \n",
    "     print(num,end='')\n",
    "     num+=1\n",
    "    \n",
    "    print()"
   ]
  },
  {
   "cell_type": "markdown",
   "id": "8282a76e-f560-4fb7-8b96-d7d82407a229",
   "metadata": {},
   "source": [
    "# Alphabets Triangle"
   ]
  },
  {
   "cell_type": "markdown",
   "id": "81df8b50-33da-40ea-acbf-8d2354b795bf",
   "metadata": {},
   "source": [
    "# Right angle triangle with alphabets"
   ]
  },
  {
   "cell_type": "code",
   "execution_count": 83,
   "id": "11cbde72-89b5-4622-9ab8-945c5530f3cf",
   "metadata": {},
   "outputs": [
    {
     "name": "stdin",
     "output_type": "stream",
     "text": [
      "Enter number of rows 5\n"
     ]
    },
    {
     "name": "stdout",
     "output_type": "stream",
     "text": [
      "A\n",
      "A B\n",
      "A B C\n",
      "A B C D\n",
      "A B C D E\n"
     ]
    }
   ],
   "source": [
    "rows=int(input(\"Enter number of rows\"))\n",
    "for i in range(1,rows+1):\n",
    "    ans=[chr(65+j) for j in range(i)]\n",
    "    print(\" \".join(ans))"
   ]
  },
  {
   "cell_type": "markdown",
   "id": "386a5ee0-7cf2-4a60-94de-083cece1aeb5",
   "metadata": {},
   "source": [
    "# inverted Right angle triangle with alphabets"
   ]
  },
  {
   "cell_type": "code",
   "execution_count": 84,
   "id": "44f956e8-ee5d-489f-825e-2a3eba710f56",
   "metadata": {},
   "outputs": [
    {
     "name": "stdin",
     "output_type": "stream",
     "text": [
      "Enter number of rows 5\n"
     ]
    },
    {
     "name": "stdout",
     "output_type": "stream",
     "text": [
      "A B C D E\n",
      "A B C D\n",
      "A B C\n",
      "A B\n",
      "A\n"
     ]
    }
   ],
   "source": [
    "rows=int(input(\"Enter number of rows\"))\n",
    "for i in range(rows,0,-1):\n",
    "    ans=[chr(65+j) for j in range(i)]\n",
    "    print(\" \".join(ans))"
   ]
  },
  {
   "cell_type": "markdown",
   "id": "20e298d1-dc26-4fac-9612-80fe0b40f19e",
   "metadata": {},
   "source": [
    "# Left angle triangle with alphabets"
   ]
  },
  {
   "cell_type": "code",
   "execution_count": 87,
   "id": "4d8022c5-31d1-4a35-9d41-e2a0a4d30436",
   "metadata": {},
   "outputs": [
    {
     "name": "stdin",
     "output_type": "stream",
     "text": [
      "Enter number of rows 5\n"
     ]
    },
    {
     "name": "stdout",
     "output_type": "stream",
     "text": [
      "    A\n",
      "\n",
      "   AB\n",
      "\n",
      "  ABC\n",
      "\n",
      " ABCD\n",
      "\n",
      "ABCDE\n",
      "\n"
     ]
    }
   ],
   "source": [
    "rows=int(input(\"Enter number of rows\"))\n",
    "for i in range(1,rows+1):\n",
    "    print(\" \"*(rows-i),end='')\n",
    "    ans=[chr(65+j) for j in range(i)]\n",
    "    print(\"\".join(ans))\n",
    "    print()"
   ]
  },
  {
   "cell_type": "markdown",
   "id": "8f4663ad-5d67-4e4f-a51d-574d1842a0b3",
   "metadata": {},
   "source": [
    "# pyramid with alphabets"
   ]
  },
  {
   "cell_type": "code",
   "execution_count": 88,
   "id": "20a51db9-13f8-4233-b300-12fa64731669",
   "metadata": {},
   "outputs": [
    {
     "name": "stdin",
     "output_type": "stream",
     "text": [
      "Enter number of rows 5\n"
     ]
    },
    {
     "name": "stdout",
     "output_type": "stream",
     "text": [
      "    A\n",
      "\n",
      "   A B\n",
      "\n",
      "  A B C\n",
      "\n",
      " A B C D\n",
      "\n",
      "A B C D E\n",
      "\n"
     ]
    }
   ],
   "source": [
    "rows=int(input(\"Enter number of rows\"))\n",
    "for i in range(1,rows+1):\n",
    "    print(\" \"*(rows-i),end='')\n",
    "    ans=[chr(65+j) for j in range(i)]\n",
    "    print(\" \".join(ans))\n",
    "    print()"
   ]
  },
  {
   "cell_type": "markdown",
   "id": "892efe3a-74f3-4cb8-86f0-d42056f4e27c",
   "metadata": {},
   "source": [
    "# inverted left angle triangle with alphabets"
   ]
  },
  {
   "cell_type": "code",
   "execution_count": 93,
   "id": "671264c6-d74b-4fcc-a726-6bfb9ee97fed",
   "metadata": {},
   "outputs": [
    {
     "name": "stdin",
     "output_type": "stream",
     "text": [
      "Enter number of rows 5\n"
     ]
    },
    {
     "name": "stdout",
     "output_type": "stream",
     "text": [
      "ABCDE\n",
      "\n",
      " ABCD\n",
      "\n",
      "  ABC\n",
      "\n",
      "   AB\n",
      "\n",
      "    A\n",
      "\n"
     ]
    }
   ],
   "source": [
    "rows=int(input(\"Enter number of rows\"))\n",
    "for i in range(rows,0,-1):\n",
    "    for j in range(rows-i):\n",
    "        print(\" \",end='')\n",
    "    ans=[chr(65+j) for j in range(i)]\n",
    "    print(\"\".join(ans))\n",
    "    print()"
   ]
  },
  {
   "cell_type": "markdown",
   "id": "2471f894-b71d-421a-927c-58f57cf2c87d",
   "metadata": {},
   "source": [
    "# Inverted pyramid with alphabets"
   ]
  },
  {
   "cell_type": "code",
   "execution_count": 95,
   "id": "57412187-d381-464f-bd06-0b7209fdc40b",
   "metadata": {},
   "outputs": [
    {
     "name": "stdin",
     "output_type": "stream",
     "text": [
      "Enter number of rows 5\n"
     ]
    },
    {
     "name": "stdout",
     "output_type": "stream",
     "text": [
      "A B C D E\n",
      "\n",
      " A B C D\n",
      "\n",
      "  A B C\n",
      "\n",
      "   A B\n",
      "\n",
      "    A\n",
      "\n"
     ]
    }
   ],
   "source": [
    "rows=int(input(\"Enter number of rows\"))\n",
    "for i in range(rows,0,-1):\n",
    "  for j in range(rows-i):\n",
    "     print(\" \",end='')\n",
    "  ans=[chr(65+k) for k in range(i)]\n",
    "  print(\" \".join(ans))\n",
    "  print()"
   ]
  },
  {
   "cell_type": "markdown",
   "id": "d2d663df-7991-4d7d-84a6-f4e4e7eb70c7",
   "metadata": {},
   "source": [
    "# Diamond with alphabets"
   ]
  },
  {
   "cell_type": "code",
   "execution_count": 96,
   "id": "20947906-01df-4b00-b8e6-968d4de593ec",
   "metadata": {},
   "outputs": [
    {
     "name": "stdin",
     "output_type": "stream",
     "text": [
      "Enter number of rows 5\n"
     ]
    },
    {
     "name": "stdout",
     "output_type": "stream",
     "text": [
      "    A\n",
      "\n",
      "   A B\n",
      "\n",
      "  A B C\n",
      "\n",
      " A B C D\n",
      "\n",
      "A B C D E\n",
      "\n",
      "A B C D E\n",
      "\n",
      " A B C D\n",
      "\n",
      "  A B C\n",
      "\n",
      "   A B\n",
      "\n",
      "    A\n",
      "\n"
     ]
    }
   ],
   "source": [
    "rows=int(input(\"Enter number of rows\"))\n",
    "for i in range(1,rows+1):\n",
    "    print(\" \"*(rows-i),end='')\n",
    "    ans=[chr(65+j) for j in range(i)]\n",
    "    print(\" \".join(ans))\n",
    "    print()\n",
    "for i in range(rows,0,-1):\n",
    "  for j in range(rows-i):\n",
    "     print(\" \",end='')\n",
    "  ans=[chr(65+k) for k in range(i)]\n",
    "  print(\" \".join(ans))\n",
    "  print()"
   ]
  },
  {
   "cell_type": "code",
   "execution_count": 36,
   "id": "b63df0ba-f80e-473b-810b-5c2ffa7ae06e",
   "metadata": {},
   "outputs": [
    {
     "name": "stdin",
     "output_type": "stream",
     "text": [
      "Enter number of rows 5\n"
     ]
    },
    {
     "name": "stdout",
     "output_type": "stream",
     "text": [
      "A        A\n",
      "AB      AB\n",
      "ABC    ABC\n",
      "ABCD  ABCD\n",
      "ABCDEABCDE\n",
      "ABCDEABCDE\n",
      "ABCD  ABCD\n",
      "ABC    ABC\n",
      "AB      AB\n",
      "A        A\n"
     ]
    }
   ],
   "source": [
    "rows=int(input(\"Enter number of rows\"))\n",
    "for i in range(1,rows+1):\n",
    "    ans=[chr(65+j) for j in range(i)]\n",
    "    print(\"\".join(ans),end='')\n",
    "    print(' '*(2*(rows-i)),end='')\n",
    "    ans=[chr(65+j) for j in range(i)]\n",
    "    print(\"\".join(ans),end='')\n",
    "    print()\n",
    "\n",
    "for i in range(rows,0,-1):\n",
    "    ans=[chr(65+j) for j in range(i)]\n",
    "    print(\"\".join(ans),end='')\n",
    "    print(' '*(2*(rows-i)),end='')\n",
    "    ans=[chr(65+j) for j in range(i)]\n",
    "    print(\"\".join(ans),end='')\n",
    "    print()"
   ]
  },
  {
   "cell_type": "code",
   "execution_count": null,
   "id": "d2545c65-c621-4876-bf63-bfab600c6d68",
   "metadata": {},
   "outputs": [],
   "source": []
  }
 ],
 "metadata": {
  "kernelspec": {
   "display_name": "Python 3 (ipykernel)",
   "language": "python",
   "name": "python3"
  },
  "language_info": {
   "codemirror_mode": {
    "name": "ipython",
    "version": 3
   },
   "file_extension": ".py",
   "mimetype": "text/x-python",
   "name": "python",
   "nbconvert_exporter": "python",
   "pygments_lexer": "ipython3",
   "version": "3.13.5"
  }
 },
 "nbformat": 4,
 "nbformat_minor": 5
}
