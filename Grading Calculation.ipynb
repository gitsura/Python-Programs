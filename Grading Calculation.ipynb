{
 "cells": [
  {
   "cell_type": "code",
   "execution_count": 2,
   "id": "3e56b8b7-8ac4-4a05-be92-e6e8c3dc3133",
   "metadata": {},
   "outputs": [
    {
     "name": "stdin",
     "output_type": "stream",
     "text": [
      "enter marks 67\n"
     ]
    },
    {
     "name": "stdout",
     "output_type": "stream",
     "text": [
      "B grade\n"
     ]
    }
   ],
   "source": [
    "marks=int(input(\"enter marks\"))\n",
    "if marks>=90 and marks<=100:\n",
    " print(\"A+ grade\")\n",
    "elif(75<=marks<90):\n",
    " print(\"A grade\")\n",
    "elif(60<=marks<75):\n",
    " print(\"B grade\")\n",
    "elif(55<=marks<60):\n",
    " print(\"C grade\")\n",
    "elif(35<=marks<55):\n",
    " print(\"D grade\")\n",
    "elif marks<35 and marks>=0:\n",
    "    print(\"fail\")\n",
    "else:\n",
    " print('invalid marks')\n"
   ]
  },
  {
   "cell_type": "code",
   "execution_count": null,
   "id": "7aa13bb7-7f93-489f-b2dd-839adc1b1201",
   "metadata": {},
   "outputs": [],
   "source": []
  }
 ],
 "metadata": {
  "kernelspec": {
   "display_name": "Python 3 (ipykernel)",
   "language": "python",
   "name": "python3"
  },
  "language_info": {
   "codemirror_mode": {
    "name": "ipython",
    "version": 3
   },
   "file_extension": ".py",
   "mimetype": "text/x-python",
   "name": "python",
   "nbconvert_exporter": "python",
   "pygments_lexer": "ipython3",
   "version": "3.13.5"
  }
 },
 "nbformat": 4,
 "nbformat_minor": 5
}
