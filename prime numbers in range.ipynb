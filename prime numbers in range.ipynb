{
 "cells": [
  {
   "cell_type": "code",
   "execution_count": 15,
   "id": "7549f5fc-68d4-439f-a507-075c498f8ce6",
   "metadata": {},
   "outputs": [
    {
     "name": "stdout",
     "output_type": "stream",
     "text": [
      "11\n",
      "13\n",
      "17\n",
      "19\n",
      "23\n",
      "29\n"
     ]
    }
   ],
   "source": [
    "start=10\n",
    "end=30\n",
    "for num in range(start,end+1):\n",
    "    if num>1:\n",
    "      for i in range(2,num):\n",
    "        if num%i==0:\n",
    "          break\n",
    "      else:\n",
    "          print(num)"
   ]
  },
  {
   "cell_type": "code",
   "execution_count": null,
   "id": "a193c3f0-ef00-4aa5-8796-ac870902d4bd",
   "metadata": {},
   "outputs": [],
   "source": []
  }
 ],
 "metadata": {
  "kernelspec": {
   "display_name": "Python 3 (ipykernel)",
   "language": "python",
   "name": "python3"
  },
  "language_info": {
   "codemirror_mode": {
    "name": "ipython",
    "version": 3
   },
   "file_extension": ".py",
   "mimetype": "text/x-python",
   "name": "python",
   "nbconvert_exporter": "python",
   "pygments_lexer": "ipython3",
   "version": "3.13.5"
  }
 },
 "nbformat": 4,
 "nbformat_minor": 5
}
