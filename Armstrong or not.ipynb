{
 "cells": [
  {
   "cell_type": "code",
   "execution_count": 1,
   "id": "341531d1-98d3-4d0c-bd0f-94713b5ea7e9",
   "metadata": {},
   "outputs": [
    {
     "name": "stdout",
     "output_type": "stream",
     "text": [
      "armstrong\n"
     ]
    }
   ],
   "source": [
    "num=153\n",
    "temp=num\n",
    "sum=0\n",
    "count=0\n",
    "while temp>0:\n",
    "    temp=temp//10\n",
    "    count+=1\n",
    "temp=num\n",
    "sum=0\n",
    "while temp>0:\n",
    " digit=temp%10\n",
    " sum=sum+digit**count\n",
    " temp//=10\n",
    "if sum==num:\n",
    "    print(\"armstrong\")\n",
    "else:\n",
    "    print(\"not armstrong\")\n"
   ]
  },
  {
   "cell_type": "code",
   "execution_count": null,
   "id": "0c465789-5a8b-4ace-a0e1-83ad1b32b693",
   "metadata": {},
   "outputs": [],
   "source": []
  }
 ],
 "metadata": {
  "kernelspec": {
   "display_name": "Python 3 (ipykernel)",
   "language": "python",
   "name": "python3"
  },
  "language_info": {
   "codemirror_mode": {
    "name": "ipython",
    "version": 3
   },
   "file_extension": ".py",
   "mimetype": "text/x-python",
   "name": "python",
   "nbconvert_exporter": "python",
   "pygments_lexer": "ipython3",
   "version": "3.13.5"
  }
 },
 "nbformat": 4,
 "nbformat_minor": 5
}
