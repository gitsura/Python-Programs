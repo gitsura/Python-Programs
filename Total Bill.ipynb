{
 "cells": [
  {
   "cell_type": "code",
   "execution_count": 1,
   "id": "e85f9519-bf0f-4e97-873f-763a4422e48d",
   "metadata": {},
   "outputs": [
    {
     "name": "stdin",
     "output_type": "stream",
     "text": [
      "enter gender female\n",
      "enter age 22\n",
      "how many choc 1\n"
     ]
    },
    {
     "name": "stdout",
     "output_type": "stream",
     "text": [
      "10% discount\n",
      "45.0\n"
     ]
    }
   ],
   "source": [
    "choc_price=50\n",
    "gender=input(\"enter gender\").lower()\n",
    "age=int(input(\"enter age\"))\n",
    "no_choc=int(input(\"how many choc\"))\n",
    "if(gender=='male') and (age>18):\n",
    "    print('no discount')\n",
    "    total_bill=no_choc*choc_price\n",
    "elif(gender=='male') and (age<18):\n",
    "    print('10% discount')\n",
    "    bill=no_choc*choc_price   \n",
    "    total_bill=bill-bill*0.1\n",
    "elif(gender=='female') and (age>18):\n",
    "    print('10% discount')\n",
    "    bill=no_choc*choc_price   \n",
    "    total_bill=bill-bill*0.1\n",
    "elif(gender=='female') and (age<18):\n",
    "    print('15% discount')\n",
    "    bill=no_choc*choc_price   \n",
    "    total_bill=bill-bill*0.15\n",
    "print(total_bill)"
   ]
  },
  {
   "cell_type": "code",
   "execution_count": null,
   "id": "2ab1d1f8-ff30-4096-aad5-cee24b0a39d1",
   "metadata": {},
   "outputs": [],
   "source": []
  }
 ],
 "metadata": {
  "kernelspec": {
   "display_name": "Python 3 (ipykernel)",
   "language": "python",
   "name": "python3"
  },
  "language_info": {
   "codemirror_mode": {
    "name": "ipython",
    "version": 3
   },
   "file_extension": ".py",
   "mimetype": "text/x-python",
   "name": "python",
   "nbconvert_exporter": "python",
   "pygments_lexer": "ipython3",
   "version": "3.13.5"
  }
 },
 "nbformat": 4,
 "nbformat_minor": 5
}
